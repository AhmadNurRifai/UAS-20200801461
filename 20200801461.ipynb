{
 "cells": [
  {
   "cell_type": "code",
   "execution_count": 1,
   "id": "281c7ff5-a1d3-43ee-9301-db398914254b",
   "metadata": {},
   "outputs": [
    {
     "ename": "ModuleNotFoundError",
     "evalue": "No module named 'matplotlib'",
     "output_type": "error",
     "traceback": [
      "\u001b[1;31m---------------------------------------------------------------------------\u001b[0m",
      "\u001b[1;31mModuleNotFoundError\u001b[0m                       Traceback (most recent call last)",
      "Cell \u001b[1;32mIn[1], line 1\u001b[0m\n\u001b[1;32m----> 1\u001b[0m \u001b[38;5;28;01mimport\u001b[39;00m \u001b[38;5;21;01mmatplotlib\u001b[39;00m\u001b[38;5;21;01m.\u001b[39;00m\u001b[38;5;21;01mpyplot\u001b[39;00m \u001b[38;5;28;01mas\u001b[39;00m \u001b[38;5;21;01mplt\u001b[39;00m\n\u001b[0;32m      2\u001b[0m \u001b[38;5;28;01mfrom\u001b[39;00m \u001b[38;5;21;01mwordcloud\u001b[39;00m \u001b[38;5;28;01mimport\u001b[39;00m WordCloud\n\u001b[0;32m      3\u001b[0m \u001b[38;5;28;01mfrom\u001b[39;00m \u001b[38;5;21;01mnltk\u001b[39;00m \u001b[38;5;28;01mimport\u001b[39;00m FreqDist, sent_tokenize, word_tokenize\n",
      "\u001b[1;31mModuleNotFoundError\u001b[0m: No module named 'matplotlib'"
     ]
    }
   ],
   "source": [
    "import matplotlib.pyplot as plt\n",
    "from wordcloud import WordCloud\n",
    "from nltk import FreqDist, sent_tokenize, word_tokenize\n",
    "from nltk.sentiment import SentimentIntensityAnalyzer\n",
    "\n",
    "# Given text\n",
    "text = \"\"\"\n",
    "Long long time ago, in England in Sherwood Forest lived Robin Hood.\n",
    "When he was a boy, he had been cheated by a few noblemen.\n",
    "Since then he had decided that he would rob the rich and give what he got to the poor.\n",
    "The Sheriff of Nottingham had made an advertisement that he would give many rewards for the capture of Robin Hood; nobody had ever caught him.\n",
    "It was because Robin Hood had a number of friends who served him. They acted as informers.\n",
    "When the Sheriff had any plan to catch him, they would warn Robin Hood.\n",
    "Many rich people were scared of going through Sherwood Forest because they knew that Robin Hood would attack them.\n",
    "The Sheriff couldn’t stand it anymore.\n",
    "Then he went to ask for the king’s help.\n",
    "However, the king refused to send any of his men to help in the capture of Robin Hood.\n",
    "One day the Sheriff and the noblemen held a competition to choose the best shooter in Nottingham. It was for capturing Robin Hood.\n",
    "Robin Hood was an excellent shooter.\n",
    "Therefore, Robin Hood would participate in the competition to prove that he was the best.\n",
    "He had been warned by his servant, but Robin wasn’t willing to listen.\n",
    "The competition began. William, the Sheriff's man, and the man in green were trying for the first prize.\n",
    "It was time for the last arrow to be shot. The winner of this round would be declared the best shooter in Nottingham.\n",
    "William could shoot very close to the center. Then the man in green’s turn made the crowd cheer hysterically.\n",
    "His arrow went through William’s arrows and the center of the target.\n",
    "Then he shot two more arrows towards the chair on which the Sheriff sat. No doubt that the man in green was Robin Hood.\n",
    "Immediately Robin Hood pulled off his black wig and then jumped over a wall onto his waiting horse and was gone.\n",
    "The Sheriff shouted to his men to catch him, but it was too late.\n",
    "Robin Hood escaped successfully.\n",
    "\"\"\"\n",
    "\n",
    "# Tokenize sentences and words\n",
    "sentences = sent_tokenize(text)\n",
    "words = [word.lower() for sentence in sentences for word in word_tokenize(sentence)]\n",
    "\n",
    "# Calculate sentiment\n",
    "sia = SentimentIntensityAnalyzer()\n",
    "compound_score = sia.polarity_scores(text)['compound']\n",
    "sentiment = \"Positive\" if compound_score > 0 else \"Negative\" if compound_score < 0 else \"Neutral\"\n",
    "\n",
    "# Generate word cloud\n",
    "wordcloud = WordCloud(width=800, height=400, background_color='white').generate(' '.join(words))\n",
    "\n",
    "# Generate frequency distribution\n",
    "freq_dist = FreqDist(words)\n",
    "\n",
    "# Plot word cloud\n",
    "plt.figure(figsize=(12, 6))\n",
    "plt.imshow(wordcloud, interpolation='bilinear')\n",
    "plt.axis('off')\n",
    "plt.title('Word Cloud')\n",
    "plt.show()\n",
    "\n",
    "# Plot frequency bar plot\n",
    "plt.figure(figsize=(12, 6))\n",
    "freq_dist.plot(30, cumulative=False)\n",
    "plt.title('Top 30 Most Frequent Words')\n",
    "plt.xlabel('Words')\n",
    "plt.ylabel('Frequency')\n",
    "plt.show()\n",
    "\n",
    "# Display sentiment\n",
    "print(f\"Sentiment: {sentiment}\")"
   ]
  },
  {
   "cell_type": "code",
   "execution_count": null,
   "id": "b4d93c13-4be7-42b3-a420-234b9a705079",
   "metadata": {},
   "outputs": [],
   "source": []
  }
 ],
 "metadata": {
  "kernelspec": {
   "display_name": "Python 3 (ipykernel)",
   "language": "python",
   "name": "python3"
  },
  "language_info": {
   "codemirror_mode": {
    "name": "ipython",
    "version": 3
   },
   "file_extension": ".py",
   "mimetype": "text/x-python",
   "name": "python",
   "nbconvert_exporter": "python",
   "pygments_lexer": "ipython3",
   "version": "3.12.1"
  }
 },
 "nbformat": 4,
 "nbformat_minor": 5
}
